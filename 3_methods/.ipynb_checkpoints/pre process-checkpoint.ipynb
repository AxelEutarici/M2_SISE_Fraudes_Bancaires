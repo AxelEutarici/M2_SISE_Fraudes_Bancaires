{
 "cells": [
  {
   "cell_type": "code",
   "execution_count": 2,
   "id": "26825643",
   "metadata": {},
   "outputs": [],
   "source": [
    "import os\n",
    "os.chdir(r\"C:\\Users\\pauli\\Documents\\M2\\fouille de données\\projet\\fichiers\")\n",
    "#os.chdir(r\"C:\\Users\\axele\\Documents\\SISE_Fraudes_Bancaires\")"
   ]
  },
  {
   "cell_type": "code",
   "execution_count": 8,
   "id": "aefb62c2",
   "metadata": {},
   "outputs": [],
   "source": [
    "import random\n",
    "import numpy as np\n",
    "import pandas as pd\n",
    "import time\n",
    "from collections import Counter\n",
    "#lib de pre-process\n",
    "from sklearn.preprocessing import Normalizer\n",
    "from imblearn.under_sampling import TomekLinks\n",
    "from imblearn.over_sampling import SMOTE\n",
    "from sklearn.feature_selection import SelectFwe, f_classif,chi2\n",
    "\n"
   ]
  },
  {
   "cell_type": "code",
   "execution_count": 6,
   "id": "beeea7ce",
   "metadata": {},
   "outputs": [],
   "source": [
    "df = pd.read_csv('df_clean.csv', sep=\",\")\n",
    "y = df.loc[:,\"FlagImpaye\"]\n",
    "# Drop the 'FlagImpaye' column\n",
    "X = df.drop(['month','day_name','FlagImpaye'], axis=1)\n",
    "\n",
    "index_train = pd.read_csv('index_train.csv',sep=\",\")\n",
    "index_train = index_train[\"0\"].values.tolist()\n",
    "index_test = pd.read_csv('index_test.csv',sep=\",\")\n",
    "index_test = index_test[\"0\"].values.tolist()\n",
    "\n",
    "\n",
    "#ytrain\n",
    "ytrain = y.loc[index_train,]\n",
    "#ytest\n",
    "ytest = y.loc[index_test,]\n",
    "#Xtrain\n",
    "Xtrain = X.loc[index_train,]\n",
    "#Xtest\n",
    "Xtest = X.loc[index_test,]\n"
   ]
  },
  {
   "cell_type": "code",
   "execution_count": 11,
   "id": "73e0f2fc",
   "metadata": {},
   "outputs": [
    {
     "name": "stdout",
     "output_type": "stream",
     "text": [
      "<class 'pandas.core.series.Series'>\n",
      "Int64Index: 3064628 entries, 0 to 3064627\n",
      "Series name: FlagImpaye\n",
      "Non-Null Count    Dtype\n",
      "--------------    -----\n",
      "3064628 non-null  int64\n",
      "dtypes: int64(1)\n",
      "memory usage: 46.8 MB\n",
      "None\n",
      "0          0\n",
      "1          0\n",
      "2          0\n",
      "3          0\n",
      "4          0\n",
      "          ..\n",
      "3064623    0\n",
      "3064624    0\n",
      "3064625    0\n",
      "3064626    0\n",
      "3064627    0\n",
      "Name: FlagImpaye, Length: 3064628, dtype: int64\n",
      "<class 'pandas.core.series.Series'>\n",
      "Original dataset shape Counter({0: 3048146, 1: 16482})\n"
     ]
    }
   ],
   "source": [
    "print(ytrain.info())\n",
    "print(ytrain)\n",
    "print(type(ytrain))\n",
    "print('Original dataset shape %s' % Counter(ytrain))"
   ]
  },
  {
   "cell_type": "markdown",
   "id": "f0a3eb31",
   "metadata": {},
   "source": [
    "# re sampling"
   ]
  },
  {
   "cell_type": "code",
   "execution_count": null,
   "id": "0bb1af69",
   "metadata": {},
   "outputs": [],
   "source": [
    "#undersampling with tomek-link\n",
    "print('Original dataset shape %s' % Counter(ytrain))\n",
    "print('0.03 dataset shape %s' % Counter(ytrain30))\n",
    "\n",
    "tl = TomekLinks()\n",
    "Xtrain_tl, ytrain_tl = tl.fit_resample(Xtrain, ytrain)\n",
    "print('Tomeklinks resampled original dataset shape %s' % Counter(ytrain_tl))\n",
    "\n",
    "sm = SMOTE(sampling_strategy=0.5, k_neighbors=5, random_state=1)\n",
    "Xtrain_smote, ytrain_smote = sm.fit_resample(Xtrain30, ytrain30)\n",
    "print('Smote resampled 0.03 dataset shape %s' % Counter(ytrain_smote))\n",
    "\n",
    "#les 2...\n",
    "\n",
    "\n"
   ]
  },
  {
   "cell_type": "markdown",
   "id": "f6582993",
   "metadata": {},
   "source": [
    "# sel var"
   ]
  },
  {
   "cell_type": "code",
   "execution_count": null,
   "id": "c8f7e363",
   "metadata": {},
   "outputs": [],
   "source": [
    "sel = SelectFwe(f_classif, alpha=0.001)\n",
    "sel.fit(X,y)"
   ]
  },
  {
   "cell_type": "code",
   "execution_count": null,
   "id": "9d5c7f39",
   "metadata": {},
   "outputs": [],
   "source": [
    "#f_classif df de base\n",
    "\n",
    "sel = SelectFwe(f_classif, alpha=0.001)\n",
    "sel.fit(X,y)\n",
    "\n",
    "#scores\n",
    "print(sel.scores_)\n",
    "\n",
    "#pvalues\n",
    "print(sel.pvalues_)\n",
    "\n",
    "#variables selectionnées \n",
    "print(X.columns[:][sel.pvalues_<0.001])"
   ]
  },
  {
   "cell_type": "code",
   "execution_count": null,
   "id": "37fc6b5f",
   "metadata": {},
   "outputs": [],
   "source": [
    "#f_classif avec Smotetomek\n",
    "sel2 = SelectFwe(f_classif, alpha=0.001)\n",
    "sel2.fit(X_smt,y_smt)\n",
    "\n",
    "#scores\n",
    "print(sel2.scores_)\n",
    "\n",
    "#pvalues\n",
    "print(sel2.pvalues_)\n",
    "\n",
    "#variables selectionnées \n",
    "print(X_smt.columns[:][sel2.pvalues_<0.001])"
   ]
  },
  {
   "cell_type": "code",
   "execution_count": null,
   "id": "d9efa27d",
   "metadata": {},
   "outputs": [],
   "source": [
    "print(X_smt.shape)\n",
    "print(y_smt.shape)\n"
   ]
  },
  {
   "cell_type": "code",
   "execution_count": null,
   "id": "cf4135fe",
   "metadata": {},
   "outputs": [],
   "source": [
    "#avec chi2 erreur : Input X must be non-negative.\n",
    "\n",
    "sel3 = SelectFwe(chi2, alpha=0.001)\n",
    "sel3.fit(X,y)\n",
    "\n",
    "#scores\n",
    "print(sel3.scores_)\n",
    "\n",
    "#pvalues\n",
    "print(sel3.pvalues_)\n",
    "\n",
    "#variables selectionnées \n",
    "print(X[:][sel3.pvalues_<0.001])"
   ]
  },
  {
   "cell_type": "markdown",
   "id": "4f0bda23",
   "metadata": {},
   "source": [
    "# normalisation"
   ]
  },
  {
   "cell_type": "code",
   "execution_count": null,
   "id": "3b92fb49",
   "metadata": {},
   "outputs": [],
   "source": [
    "#normaliser \n",
    "normalizer = Normalizer() \n",
    "normalizer.fit(X)    \n",
    "X = normalizer.transform(X)"
   ]
  },
  {
   "cell_type": "code",
   "execution_count": null,
   "id": "92f030bb",
   "metadata": {},
   "outputs": [],
   "source": []
  },
  {
   "cell_type": "code",
   "execution_count": null,
   "id": "89993c08",
   "metadata": {},
   "outputs": [],
   "source": []
  }
 ],
 "metadata": {
  "kernelspec": {
   "display_name": "Python 3 (ipykernel)",
   "language": "python",
   "name": "python3"
  },
  "language_info": {
   "codemirror_mode": {
    "name": "ipython",
    "version": 3
   },
   "file_extension": ".py",
   "mimetype": "text/x-python",
   "name": "python",
   "nbconvert_exporter": "python",
   "pygments_lexer": "ipython3",
   "version": "3.10.8"
  }
 },
 "nbformat": 4,
 "nbformat_minor": 5
}
