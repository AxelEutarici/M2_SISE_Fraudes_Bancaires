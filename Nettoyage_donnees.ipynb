{
 "cells": [
  {
   "cell_type": "code",
   "execution_count": 1,
   "id": "c247ecc6",
   "metadata": {},
   "outputs": [],
   "source": [
    "import pandas as pd\n",
    "from pandas_profiling import ProfileReport\n",
    "import math"
   ]
  },
  {
   "cell_type": "code",
   "execution_count": 2,
   "id": "ac06717b",
   "metadata": {},
   "outputs": [],
   "source": [
    "data = pd.read_csv('guillaume.txt',sep=\";\", low_memory=False)"
   ]
  },
  {
   "cell_type": "code",
   "execution_count": 3,
   "id": "b3b64721",
   "metadata": {},
   "outputs": [
    {
     "name": "stdout",
     "output_type": "stream",
     "text": [
      "                      ZIBZIN IDAvisAutorisationCheque FlagImpaye  \\\n",
      "0  A013010004908126703060931                 78643044          0   \n",
      "1  A013011306908024927155000                 78643045          0   \n",
      "2  A013010002908283134592527                 78643046          0   \n",
      "3  A011010002908105209831316                 78643047          0   \n",
      "4  A013010041908000125652029                 78643048          0   \n",
      "\n",
      "              Montant      DateTransaction CodeDecision VerifianceCPT1  \\\n",
      "0                  20  2017-02-01 07:32:14            1              0   \n",
      "1                  20  2017-02-01 07:43:37            1              0   \n",
      "2  57.640000000000001  2017-02-01 07:47:38            1              0   \n",
      "3  54.289999999999999  2017-02-01 07:48:48            0              1   \n",
      "4  26.899999999999999  2017-02-01 08:13:27            1              0   \n",
      "\n",
      "  VerifianceCPT2 VerifianceCPT3 D2CB  ...        TauxImpNb_RB  \\\n",
      "0              0              0  551  ...  37.186667890919111   \n",
      "1              0              0  551  ...  48.844716275908937   \n",
      "2              0              0  549  ...  73.118279569892479   \n",
      "3              1              1  267  ...  110.05692599620494   \n",
      "4              0              0  549  ...   45.36831264567185   \n",
      "\n",
      "        TauxImpNB_CPM EcartNumCheq NbrMagasin3J         DiffDateTr1  \\\n",
      "0  52.076033757361408            0            1                   4   \n",
      "1  52.076033757361408            1            2  1.7976851851851852   \n",
      "2  52.076033757361408            0            1                   4   \n",
      "3  53.554233554497365            0            1                   4   \n",
      "4  52.076033757361408            1            1  1.9971064814814814   \n",
      "\n",
      "  DiffDateTr2 DiffDateTr3          CA3TRetMtt               CA3TR  Heure  \n",
      "0           4           4                  20                   0  27134  \n",
      "1           4           4  28.609999999999999  8.6099999999999994  27817  \n",
      "2           4           4  57.640000000000001                   0  28058  \n",
      "3           4           4  54.289999999999999                   0  28128  \n",
      "4           4           4  59.149999999999999               32.25  29607  \n",
      "\n",
      "[5 rows x 23 columns]\n"
     ]
    }
   ],
   "source": [
    "print(data.head())\n",
    "data.dtypes\n",
    "\n",
    "#Impossible de changer les types des colonnes à cause de la ligne #1956360\n",
    "data.iloc[[1956360]]\n",
    "#c'est un header\n",
    "\n",
    "data.drop([1956360], axis=0, inplace=True)"
   ]
  },
  {
   "cell_type": "code",
   "execution_count": 4,
   "id": "2c72b787",
   "metadata": {},
   "outputs": [],
   "source": [
    "#Changement des types en float64\n",
    "data = data.astype({'Montant': 'double', 'TauxImpNb_RB' : 'double', 'TauxImpNB_CPM' : 'double', 'TauxImpNB_CPM' : 'double' , 'DiffDateTr1' : 'double', 'NbrMagasin3J' :'double', 'DiffDateTr2' : 'double', 'DiffDateTr3':'double', 'CA3TRetMtt' : 'double', 'CA3TR' : 'double' })\n",
    "\n",
    "# Enlevez les duplicats\n",
    "df = data.drop_duplicates()"
   ]
  },
  {
   "cell_type": "code",
   "execution_count": null,
   "id": "dbe6e7e7",
   "metadata": {},
   "outputs": [
    {
     "data": {
      "application/vnd.jupyter.widget-view+json": {
       "model_id": "640324b9868b4eacb3e10c5dec2a236d",
       "version_major": 2,
       "version_minor": 0
      },
      "text/plain": [
       "Summarize dataset:   0%|          | 0/5 [00:00<?, ?it/s]"
      ]
     },
     "metadata": {},
     "output_type": "display_data"
    }
   ],
   "source": [
    "#profile = ProfileReport(df, title='Analyse exploratoire fraudes cheques', html={'style':{'full_width':True}})\n",
    "#profile.to_notebook_iframe()\n",
    "\n",
    "#bloque à 80% pour calculer l'auto correlation"
   ]
  },
  {
   "cell_type": "code",
   "execution_count": null,
   "id": "09d827e7",
   "metadata": {},
   "outputs": [],
   "source": [
    "print(df.shape)\n",
    "df.dtypes"
   ]
  }
 ],
 "metadata": {
  "kernelspec": {
   "display_name": "Python 3 (ipykernel)",
   "language": "python",
   "name": "python3"
  },
  "language_info": {
   "codemirror_mode": {
    "name": "ipython",
    "version": 3
   },
   "file_extension": ".py",
   "mimetype": "text/x-python",
   "name": "python",
   "nbconvert_exporter": "python",
   "pygments_lexer": "ipython3",
   "version": "3.10.7"
  }
 },
 "nbformat": 4,
 "nbformat_minor": 5
}
