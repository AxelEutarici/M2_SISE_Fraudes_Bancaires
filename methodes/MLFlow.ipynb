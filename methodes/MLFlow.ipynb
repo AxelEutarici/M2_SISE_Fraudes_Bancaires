{
 "cells": [
  {
   "cell_type": "code",
   "execution_count": 3,
   "id": "25bc5062-276e-4005-85a4-12ea1a5fc35a",
   "metadata": {},
   "outputs": [],
   "source": [
    "import mlflow\n",
    "import os\n",
    "#rendre silencieux les messages du GIT\n",
    "os.environ[\"GIT_PYTHON_REFRESH\"] = \"quiet\""
   ]
  },
  {
   "cell_type": "code",
   "execution_count": 20,
   "id": "a060c103-67f0-44e1-8474-38089bb8cab5",
   "metadata": {},
   "outputs": [
    {
     "data": {
      "text/plain": [
       "<Experiment: artifact_location='mlflow-artifacts:/541795256308840198', creation_time=1673438592181, experiment_id='541795256308840198', last_update_time=1673438592181, lifecycle_stage='active', name='Fouilles de Données Massives', tags={}>"
      ]
     },
     "execution_count": 20,
     "metadata": {},
     "output_type": "execute_result"
    }
   ],
   "source": [
    "#définir une expérimentation\n",
    "mlflow.set_tracking_uri(\"http://localhost:5000\")\n",
    "mlflow.set_experiment(\"Fouilles de Données Massives\")"
   ]
  },
  {
   "cell_type": "code",
   "execution_count": 21,
   "id": "c9c946e9-40a7-497a-872b-61ff5bcdfea7",
   "metadata": {},
   "outputs": [],
   "source": [
    "#instanciation d'un run\n",
    "my_run = mlflow.start_run(run_name = 'test')\n"
   ]
  },
  {
   "cell_type": "code",
   "execution_count": 11,
   "id": "01941a0b-4c06-4446-9ebb-0bb8382841aa",
   "metadata": {},
   "outputs": [],
   "source": [
    "#rajouter le champs \"metrics\" vide pour l'instant\n",
    "my_run.metrics = {}\n",
    "\n",
    "#rajout des éléments de performance\n",
    "my_run.metrics['Accuracy'] = 1\n",
    "my_run.metrics['Recall'] = 2\n",
    "my_run.metrics['Precision'] = 3\n",
    "my_run.metrics['F_Score']= 4\n",
    "\n"
   ]
  },
  {
   "cell_type": "code",
   "execution_count": 16,
   "id": "41b33760",
   "metadata": {},
   "outputs": [],
   "source": [
    "import pandas as pd\n",
    "import os\n",
    "import random\n",
    "os.chdir(r\"C:\\Users\\pauli\\Documents\\M2\\fouille de données\\projet\\fichiers\")\n",
    "\n",
    "df = pd.read_csv('df_clean.csv', sep=\",\")\n",
    "index_train = pd.read_csv('index_train.csv',sep=\",\")\n",
    "index_train = index_train[\"0\"].values.tolist()\n",
    "index_test = pd.read_csv('index_test.csv',sep=\",\")\n",
    "index_test = index_test[\"0\"].values.tolist()\n",
    "#prendre moins de lignes ??? ou l'under sampling suffira ??? \n",
    "index_train30 = random.sample(index_train, round(len(index_train)*0.03))\n",
    "index_test30 = random.sample(index_test, round(len(index_test)*0.03))\n",
    "y = df.loc[:,\"FlagImpaye\"]\n",
    "# Drop the 'FlagImpaye' column\n",
    "X = df.drop('FlagImpaye', axis=1)\n",
    "#ytrain\n",
    "ytrain = y.loc[index_train30,]\n",
    "#ytest\n",
    "ytest = y.loc[index_test30,]\n",
    "#Xtrain\n",
    "Xtrain = X.loc[index_train30,]\n",
    "#Xtest\n",
    "Xtest = X.loc[index_test30,]\n",
    "\n",
    "\n",
    "from sklearn.tree import DecisionTreeClassifier\n",
    "param = {\"criterion\":\"gini\",\"max_depth\":None,\"min_samples_split\":2,\"min_samples_leaf\":1,\"max_features\":\"sqrt\"}\n",
    "dtc = DecisionTreeClassifier()\n",
    "dtc = dtc.fit(Xtrain, ytrain)\n"
   ]
  },
  {
   "cell_type": "code",
   "execution_count": 17,
   "id": "a8bf0d9c",
   "metadata": {},
   "outputs": [
    {
     "data": {
      "text/plain": [
       "{'ccp_alpha': 0.0,\n",
       " 'class_weight': None,\n",
       " 'criterion': 'gini',\n",
       " 'max_depth': None,\n",
       " 'max_features': None,\n",
       " 'max_leaf_nodes': None,\n",
       " 'min_impurity_decrease': 0.0,\n",
       " 'min_samples_leaf': 1,\n",
       " 'min_samples_split': 2,\n",
       " 'min_weight_fraction_leaf': 0.0,\n",
       " 'random_state': None,\n",
       " 'splitter': 'best'}"
      ]
     },
     "execution_count": 17,
     "metadata": {},
     "output_type": "execute_result"
    }
   ],
   "source": [
    "dtc.get_params()"
   ]
  },
  {
   "cell_type": "code",
   "execution_count": 18,
   "id": "e1ebfe85-6bf4-4319-8e78-adc47f20444a",
   "metadata": {},
   "outputs": [
    {
     "name": "stderr",
     "output_type": "stream",
     "text": [
      "C:\\Users\\pauli\\anaconda3\\envs\\metzler\\lib\\site-packages\\_distutils_hack\\__init__.py:33: UserWarning: Setuptools is replacing distutils.\n",
      "  warnings.warn(\"Setuptools is replacing distutils.\")\n"
     ]
    }
   ],
   "source": [
    "#rajouter le modèle dans le log\n",
    "mlflow.sklearn.log_model(dtc,\"Modele Arbre\")\n",
    "\n",
    "#artifact\n",
    "mlflow.log_artifact(\"guillaume.txt\")\n",
    "\n",
    "#stocker les métriques\n",
    "mlflow.log_metrics(my_run.metrics)\n",
    "\n",
    "#paramètres de l'algo\n",
    "mlflow.log_params(dtc.get_params())"
   ]
  },
  {
   "cell_type": "code",
   "execution_count": 22,
   "id": "9ccd3ac2-e953-426d-b29a-415e657cb47d",
   "metadata": {},
   "outputs": [],
   "source": [
    "#finaliser l'expérimentation\n",
    "mlflow.end_run()"
   ]
  },
  {
   "cell_type": "code",
   "execution_count": null,
   "id": "998ae20d",
   "metadata": {},
   "outputs": [],
   "source": []
  },
  {
   "cell_type": "code",
   "execution_count": null,
   "id": "009bdd87",
   "metadata": {},
   "outputs": [],
   "source": []
  },
  {
   "cell_type": "code",
   "execution_count": null,
   "id": "5859adf6-7607-4fc8-8fbd-a4aedb7591b5",
   "metadata": {},
   "outputs": [],
   "source": [
    "#lancer les runs si on veut faire une seule boucle\n",
    "for modele in liste:\n",
    "    #le run\n",
    "    therun = mlflow.start_run(run_name = modele[0])    \n",
    "    #entraînement du modèle\n",
    "    themodele = modele[1].fit(XTrain,yTrain)\n",
    "    #prédiction\n",
    "    predmodele = themodele.predict(XTest)\n",
    "    #récupérer les résultats\n",
    "    therun.metrics = {}\n",
    "    therun.metrics['Accuracy'] = metrics.accuracy_score(yTest,predmodele)\n",
    "    therun.metrics['Rappel'] = metrics.recall_score(yTest,predmodele,pos_label='good')\n",
    "    therun.metrics['Precision'] = metrics.precision_score(yTest,predmodele,pos_label='good')\n",
    "    #rajouter le modèle dans le log\n",
    "    mlflow.sklearn.log_model(themodele,modele[0])\n",
    "    #info sur les donnees\n",
    "    mlflow.log_artifact(\"working_conditions.xlsx\")\n",
    "    #stocker les métriques\n",
    "    mlflow.log_metrics(therun.metrics)\n",
    "    #paramètres de l'algo\n",
    "    mlflow.log_params(themodele.get_params())\n",
    "    #finaliser\n",
    "    mlflow.end_run()"
   ]
  }
 ],
 "metadata": {
  "kernelspec": {
   "display_name": "Python 3 (ipykernel)",
   "language": "python",
   "name": "python3"
  },
  "language_info": {
   "codemirror_mode": {
    "name": "ipython",
    "version": 3
   },
   "file_extension": ".py",
   "mimetype": "text/x-python",
   "name": "python",
   "nbconvert_exporter": "python",
   "pygments_lexer": "ipython3",
   "version": "3.10.8"
  }
 },
 "nbformat": 4,
 "nbformat_minor": 5
}
