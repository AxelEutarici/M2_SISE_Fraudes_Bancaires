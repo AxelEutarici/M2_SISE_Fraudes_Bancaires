{
 "cells": [
  {
   "cell_type": "code",
   "execution_count": 2,
   "id": "ac5355d3",
   "metadata": {},
   "outputs": [],
   "source": [
    "import os\n",
    "#os.chdir(r\"C:\\Users\\pauli\\Documents\\M2\\fouille de données\\projet\\fichiers\")\n",
    "os.chdir(r\"C:\\Users\\axele\\Documents\\SISE_Fraudes_Bancaires\")"
   ]
  },
  {
   "cell_type": "code",
   "execution_count": 1,
   "id": "ca88ae09",
   "metadata": {},
   "outputs": [],
   "source": [
    "import random\n",
    "import numpy as np\n",
    "import pandas as pd\n",
    "import time\n",
    "\n",
    "from sklearn.model_selection import StratifiedKFold\n",
    "\n",
    "#lib de pre-process\n",
    "from sklearn.preprocessing import OneHotEncoder\n",
    "from sklearn.preprocessing import Normalizer\n",
    "from imblearn.under_sampling import TomekLinks\n",
    "from imblearn.over_sampling import SMOTE\n",
    "\n",
    "#lib de metriques\n",
    "from sklearn.metrics import precision_recall_curve, confusion_matrix, f1_score, make_scorer\n",
    "\n",
    "\n",
    "from sklearn.feature_selection import SelectFwe, f_classif,chi2"
   ]
  },
  {
   "cell_type": "code",
   "execution_count": 4,
   "id": "90846560",
   "metadata": {},
   "outputs": [],
   "source": [
    "df = pd.read_csv('df_clean.csv', sep=\",\")\n",
    "y = df.loc[:,\"FlagImpaye\"]\n",
    "# Drop the 'FlagImpaye' column\n",
    "X = df.drop(['month','day_name','FlagImpaye'], axis=1)\n",
    "\n",
    "\n",
    "#avec le jeu de données smotetomek\n",
    "\n",
    "X_smt = pd.read_csv('Xtrain_SMOTETomek.csv',sep=\",\")\n",
    "y_smt = pd.read_csv('ytrain_SMOTETomek.csv',sep=\",\")"
   ]
  },
  {
   "cell_type": "code",
   "execution_count": 5,
   "id": "92bba2b1",
   "metadata": {},
   "outputs": [
    {
     "name": "stdout",
     "output_type": "stream",
     "text": [
      "[2.61409188e+03 6.17192676e+03 9.78204992e+03 1.14973315e+04\n",
      " 7.59769515e+03 2.56798282e+03 1.08401630e+04 6.76501126e+03\n",
      " 1.81739171e+04 3.46435865e+03 4.40912568e+00 7.19262341e+02\n",
      " 1.47537181e+03 1.31488467e+02 2.75181719e+02 5.81099525e+03\n",
      " 7.29293374e+03 1.28576970e+03]\n",
      "[0.00000000e+000 0.00000000e+000 0.00000000e+000 0.00000000e+000\n",
      " 0.00000000e+000 0.00000000e+000 0.00000000e+000 0.00000000e+000\n",
      " 0.00000000e+000 0.00000000e+000 3.57472238e-002 2.00371319e-158\n",
      " 1.03753786e-322 1.93818776e-030 8.46812979e-062 0.00000000e+000\n",
      " 0.00000000e+000 1.55893007e-281]\n",
      "Index(['Montant', 'VerifianceCPT1', 'VerifianceCPT2', 'VerifianceCPT3', 'D2CB',\n",
      "       'ScoringFP1', 'ScoringFP2', 'ScoringFP3', 'TauxImpNb_RB',\n",
      "       'TauxImpNB_CPM', 'NbrMagasin3J', 'DiffDateTr1', 'DiffDateTr2',\n",
      "       'DiffDateTr3', 'CA3TRetMtt', 'CA3TR', 'Heure'],\n",
      "      dtype='object')\n"
     ]
    }
   ],
   "source": [
    "#f_classif df de base\n",
    "\n",
    "sel = SelectFwe(f_classif, alpha=0.001)\n",
    "sel.fit(X,y)\n",
    "\n",
    "#scores\n",
    "print(sel.scores_)\n",
    "\n",
    "#pvalues\n",
    "print(sel.pvalues_)\n",
    "\n",
    "#variables selectionnées \n",
    "print(X.columns[:][sel.pvalues_<0.001])"
   ]
  },
  {
   "cell_type": "code",
   "execution_count": 6,
   "id": "42f3de38",
   "metadata": {},
   "outputs": [
    {
     "name": "stderr",
     "output_type": "stream",
     "text": [
      "C:\\Users\\axele\\AppData\\Local\\Programs\\Python\\Python310\\lib\\site-packages\\sklearn\\utils\\validation.py:1111: DataConversionWarning: A column-vector y was passed when a 1d array was expected. Please change the shape of y to (n_samples, ), for example using ravel().\n",
      "  y = column_or_1d(y, warn=True)\n"
     ]
    },
    {
     "name": "stdout",
     "output_type": "stream",
     "text": [
      "[1.31897241e+05 6.90058190e+04 1.25109641e+05 1.56020099e+05\n",
      " 6.88510220e+05 4.18908959e+04 8.48227665e+05 1.30413752e+05\n",
      " 2.67455759e+04 2.75373718e+05 4.09825740e+01 2.65074741e+04\n",
      " 2.76162492e+04 1.51574983e+03 4.59162837e+04 1.44403761e+05\n",
      " 5.52127685e+04 1.04969504e+05]\n",
      "[0.00000000e+00 0.00000000e+00 0.00000000e+00 0.00000000e+00\n",
      " 0.00000000e+00 0.00000000e+00 0.00000000e+00 0.00000000e+00\n",
      " 0.00000000e+00 0.00000000e+00 1.53603697e-10 0.00000000e+00\n",
      " 0.00000000e+00 0.00000000e+00 0.00000000e+00 0.00000000e+00\n",
      " 0.00000000e+00 0.00000000e+00]\n",
      "Index(['Montant', 'VerifianceCPT1', 'VerifianceCPT2', 'VerifianceCPT3', 'D2CB',\n",
      "       'ScoringFP1', 'ScoringFP2', 'ScoringFP3', 'TauxImpNb_RB',\n",
      "       'TauxImpNB_CPM', 'EcartNumCheq', 'NbrMagasin3J', 'DiffDateTr1',\n",
      "       'DiffDateTr2', 'DiffDateTr3', 'CA3TRetMtt', 'CA3TR', 'Heure'],\n",
      "      dtype='object')\n"
     ]
    }
   ],
   "source": [
    "#f_classif avec Smotetomek\n",
    "sel2 = SelectFwe(f_classif, alpha=0.001)\n",
    "sel2.fit(X_smt,y_smt)\n",
    "\n",
    "#scores\n",
    "print(sel2.scores_)\n",
    "\n",
    "#pvalues\n",
    "print(sel2.pvalues_)\n",
    "\n",
    "#variables selectionnées \n",
    "print(X_smt.columns[:][sel2.pvalues_<0.001])"
   ]
  },
  {
   "cell_type": "code",
   "execution_count": 7,
   "id": "c2ec5707",
   "metadata": {},
   "outputs": [
    {
     "data": {
      "text/plain": [
       "(6094230, 18)"
      ]
     },
     "execution_count": 7,
     "metadata": {},
     "output_type": "execute_result"
    }
   ],
   "source": [
    "X_smt.shape"
   ]
  },
  {
   "cell_type": "code",
   "execution_count": 8,
   "id": "b3ba73f8",
   "metadata": {},
   "outputs": [
    {
     "data": {
      "text/plain": [
       "(6094230, 1)"
      ]
     },
     "execution_count": 8,
     "metadata": {},
     "output_type": "execute_result"
    }
   ],
   "source": [
    "y_smt.shape"
   ]
  },
  {
   "cell_type": "code",
   "execution_count": 11,
   "id": "d1db9c0a",
   "metadata": {},
   "outputs": [
    {
     "ename": "ValueError",
     "evalue": "Input X must be non-negative.",
     "output_type": "error",
     "traceback": [
      "\u001b[1;31m---------------------------------------------------------------------------\u001b[0m",
      "\u001b[1;31mValueError\u001b[0m                                Traceback (most recent call last)",
      "Cell \u001b[1;32mIn [11], line 2\u001b[0m\n\u001b[0;32m      1\u001b[0m sel3 \u001b[38;5;241m=\u001b[39m SelectFwe(chi2, alpha\u001b[38;5;241m=\u001b[39m\u001b[38;5;241m0.001\u001b[39m)\n\u001b[1;32m----> 2\u001b[0m \u001b[43msel3\u001b[49m\u001b[38;5;241;43m.\u001b[39;49m\u001b[43mfit\u001b[49m\u001b[43m(\u001b[49m\u001b[43mX\u001b[49m\u001b[43m,\u001b[49m\u001b[43my\u001b[49m\u001b[43m)\u001b[49m\n\u001b[0;32m      4\u001b[0m \u001b[38;5;66;03m#scores\u001b[39;00m\n\u001b[0;32m      5\u001b[0m \u001b[38;5;28mprint\u001b[39m(sel3\u001b[38;5;241m.\u001b[39mscores_)\n",
      "File \u001b[1;32m~\\AppData\\Local\\Programs\\Python\\Python310\\lib\\site-packages\\sklearn\\feature_selection\\_univariate_selection.py:472\u001b[0m, in \u001b[0;36m_BaseFilter.fit\u001b[1;34m(self, X, y)\u001b[0m\n\u001b[0;32m    466\u001b[0m     \u001b[38;5;28;01mraise\u001b[39;00m \u001b[38;5;167;01mTypeError\u001b[39;00m(\n\u001b[0;32m    467\u001b[0m         \u001b[38;5;124m\"\u001b[39m\u001b[38;5;124mThe score function should be a callable, \u001b[39m\u001b[38;5;132;01m%s\u001b[39;00m\u001b[38;5;124m (\u001b[39m\u001b[38;5;132;01m%s\u001b[39;00m\u001b[38;5;124m) was passed.\u001b[39m\u001b[38;5;124m\"\u001b[39m\n\u001b[0;32m    468\u001b[0m         \u001b[38;5;241m%\u001b[39m (\u001b[38;5;28mself\u001b[39m\u001b[38;5;241m.\u001b[39mscore_func, \u001b[38;5;28mtype\u001b[39m(\u001b[38;5;28mself\u001b[39m\u001b[38;5;241m.\u001b[39mscore_func))\n\u001b[0;32m    469\u001b[0m     )\n\u001b[0;32m    471\u001b[0m \u001b[38;5;28mself\u001b[39m\u001b[38;5;241m.\u001b[39m_check_params(X, y)\n\u001b[1;32m--> 472\u001b[0m score_func_ret \u001b[38;5;241m=\u001b[39m \u001b[38;5;28;43mself\u001b[39;49m\u001b[38;5;241;43m.\u001b[39;49m\u001b[43mscore_func\u001b[49m\u001b[43m(\u001b[49m\u001b[43mX\u001b[49m\u001b[43m,\u001b[49m\u001b[43m \u001b[49m\u001b[43my\u001b[49m\u001b[43m)\u001b[49m\n\u001b[0;32m    473\u001b[0m \u001b[38;5;28;01mif\u001b[39;00m \u001b[38;5;28misinstance\u001b[39m(score_func_ret, (\u001b[38;5;28mlist\u001b[39m, \u001b[38;5;28mtuple\u001b[39m)):\n\u001b[0;32m    474\u001b[0m     \u001b[38;5;28mself\u001b[39m\u001b[38;5;241m.\u001b[39mscores_, \u001b[38;5;28mself\u001b[39m\u001b[38;5;241m.\u001b[39mpvalues_ \u001b[38;5;241m=\u001b[39m score_func_ret\n",
      "File \u001b[1;32m~\\AppData\\Local\\Programs\\Python\\Python310\\lib\\site-packages\\sklearn\\feature_selection\\_univariate_selection.py:215\u001b[0m, in \u001b[0;36mchi2\u001b[1;34m(X, y)\u001b[0m\n\u001b[0;32m    213\u001b[0m X \u001b[38;5;241m=\u001b[39m check_array(X, accept_sparse\u001b[38;5;241m=\u001b[39m\u001b[38;5;124m\"\u001b[39m\u001b[38;5;124mcsr\u001b[39m\u001b[38;5;124m\"\u001b[39m, dtype\u001b[38;5;241m=\u001b[39m(np\u001b[38;5;241m.\u001b[39mfloat64, np\u001b[38;5;241m.\u001b[39mfloat32))\n\u001b[0;32m    214\u001b[0m \u001b[38;5;28;01mif\u001b[39;00m np\u001b[38;5;241m.\u001b[39many((X\u001b[38;5;241m.\u001b[39mdata \u001b[38;5;28;01mif\u001b[39;00m issparse(X) \u001b[38;5;28;01melse\u001b[39;00m X) \u001b[38;5;241m<\u001b[39m \u001b[38;5;241m0\u001b[39m):\n\u001b[1;32m--> 215\u001b[0m     \u001b[38;5;28;01mraise\u001b[39;00m \u001b[38;5;167;01mValueError\u001b[39;00m(\u001b[38;5;124m\"\u001b[39m\u001b[38;5;124mInput X must be non-negative.\u001b[39m\u001b[38;5;124m\"\u001b[39m)\n\u001b[0;32m    217\u001b[0m \u001b[38;5;66;03m# Use a sparse representation for Y by default to reduce memory usage when\u001b[39;00m\n\u001b[0;32m    218\u001b[0m \u001b[38;5;66;03m# y has many unique classes.\u001b[39;00m\n\u001b[0;32m    219\u001b[0m Y \u001b[38;5;241m=\u001b[39m LabelBinarizer(sparse_output\u001b[38;5;241m=\u001b[39m\u001b[38;5;28;01mTrue\u001b[39;00m)\u001b[38;5;241m.\u001b[39mfit_transform(y)\n",
      "\u001b[1;31mValueError\u001b[0m: Input X must be non-negative."
     ]
    }
   ],
   "source": [
    "#avec chi2 erreur : Input X must be non-negative.\n",
    "\n",
    "sel3 = SelectFwe(chi2, alpha=0.001)\n",
    "sel3.fit(X,y)\n",
    "\n",
    "#scores\n",
    "print(sel3.scores_)\n",
    "\n",
    "#pvalues\n",
    "print(sel3.pvalues_)\n",
    "\n",
    "#variables selectionnées \n",
    "print(X[:][sel3.pvalues_<0.001])"
   ]
  }
 ],
 "metadata": {
  "kernelspec": {
   "display_name": "Python 3 (ipykernel)",
   "language": "python",
   "name": "python3"
  },
  "language_info": {
   "codemirror_mode": {
    "name": "ipython",
    "version": 3
   },
   "file_extension": ".py",
   "mimetype": "text/x-python",
   "name": "python",
   "nbconvert_exporter": "python",
   "pygments_lexer": "ipython3",
   "version": "3.10.7"
  }
 },
 "nbformat": 4,
 "nbformat_minor": 5
}
