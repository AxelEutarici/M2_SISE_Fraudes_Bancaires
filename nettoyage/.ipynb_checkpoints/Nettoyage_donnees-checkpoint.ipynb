{
 "cells": [
  {
   "cell_type": "code",
   "execution_count": 1,
   "id": "c247ecc6",
   "metadata": {},
   "outputs": [
    {
     "name": "stderr",
     "output_type": "stream",
     "text": [
      "C:\\Users\\pauli\\anaconda3\\envs\\metzler\\lib\\site-packages\\tqdm\\auto.py:22: TqdmWarning: IProgress not found. Please update jupyter and ipywidgets. See https://ipywidgets.readthedocs.io/en/stable/user_install.html\n",
      "  from .autonotebook import tqdm as notebook_tqdm\n"
     ]
    }
   ],
   "source": [
    "import pandas as pd\n",
    "from pandas_profiling import ProfileReport\n",
    "import math\n",
    "import datetime as dt\n",
    "import os"
   ]
  },
  {
   "cell_type": "code",
   "execution_count": 2,
   "id": "ac06717b",
   "metadata": {},
   "outputs": [],
   "source": [
    "os.chdir(r\"C:\\Users\\pauli\\Documents\\M2\\fouille de données\\projet\\fichiers\")\n",
    "data = pd.read_csv('guillaume.txt',sep=\";\", low_memory=False)"
   ]
  },
  {
   "cell_type": "code",
   "execution_count": 19,
   "id": "3b90a60c",
   "metadata": {},
   "outputs": [],
   "source": [
    "df=data.copy()"
   ]
  },
  {
   "cell_type": "code",
   "execution_count": 20,
   "id": "b3b64721",
   "metadata": {},
   "outputs": [
    {
     "name": "stdout",
     "output_type": "stream",
     "text": [
      "         ZIBZIN  IDAvisAutorisationCheque  FlagImpaye  Montant  \\\n",
      "1956360  ZIBZIN  IDAvisAutorisationCheque  FlagImpaye  Montant   \n",
      "\n",
      "         DateTransaction  CodeDecision  VerifianceCPT1  VerifianceCPT2  \\\n",
      "1956360  DateTransaction  CodeDecision  VerifianceCPT1  VerifianceCPT2   \n",
      "\n",
      "         VerifianceCPT3  D2CB  ...  TauxImpNb_RB  TauxImpNB_CPM  EcartNumCheq  \\\n",
      "1956360  VerifianceCPT3  D2CB  ...  TauxImpNb_RB  TauxImpNB_CPM  EcartNumCheq   \n",
      "\n",
      "         NbrMagasin3J  DiffDateTr1  DiffDateTr2  DiffDateTr3  CA3TRetMtt  \\\n",
      "1956360  NbrMagasin3J  DiffDateTr1  DiffDateTr2  DiffDateTr3  CA3TRetMtt   \n",
      "\n",
      "         CA3TR  Heure  \n",
      "1956360  CA3TR  Heure  \n",
      "\n",
      "[1 rows x 23 columns]\n",
      "         ZIBZIN  IDAvisAutorisationCheque  FlagImpaye  Montant  \\\n",
      "1956360  ZIBZIN  IDAvisAutorisationCheque  FlagImpaye  Montant   \n",
      "\n",
      "         DateTransaction  CodeDecision  VerifianceCPT1  VerifianceCPT2  \\\n",
      "1956360  DateTransaction  CodeDecision  VerifianceCPT1  VerifianceCPT2   \n",
      "\n",
      "         VerifianceCPT3  D2CB  ...  TauxImpNb_RB  TauxImpNB_CPM  EcartNumCheq  \\\n",
      "1956360  VerifianceCPT3  D2CB  ...  TauxImpNb_RB  TauxImpNB_CPM  EcartNumCheq   \n",
      "\n",
      "         NbrMagasin3J  DiffDateTr1  DiffDateTr2  DiffDateTr3  CA3TRetMtt  \\\n",
      "1956360  NbrMagasin3J  DiffDateTr1  DiffDateTr2  DiffDateTr3  CA3TRetMtt   \n",
      "\n",
      "         CA3TR  Heure  \n",
      "1956360  CA3TR  Heure  \n",
      "\n",
      "[1 rows x 23 columns]\n",
      "                      ZIBZIN IDAvisAutorisationCheque FlagImpaye  \\\n",
      "0  A013010004908126703060931                 78643044          0   \n",
      "1  A013011306908024927155000                 78643045          0   \n",
      "2  A013010002908283134592527                 78643046          0   \n",
      "3  A011010002908105209831316                 78643047          0   \n",
      "4  A013010041908000125652029                 78643048          0   \n",
      "\n",
      "              Montant      DateTransaction CodeDecision VerifianceCPT1  \\\n",
      "0                  20  2017-02-01 07:32:14            1              0   \n",
      "1                  20  2017-02-01 07:43:37            1              0   \n",
      "2  57,640000000000001  2017-02-01 07:47:38            1              0   \n",
      "3  54,289999999999999  2017-02-01 07:48:48            0              1   \n",
      "4  26,899999999999999  2017-02-01 08:13:27            1              0   \n",
      "\n",
      "  VerifianceCPT2 VerifianceCPT3 D2CB  ...        TauxImpNb_RB  \\\n",
      "0              0              0  551  ...  37,186667890919111   \n",
      "1              0              0  551  ...  48,844716275908937   \n",
      "2              0              0  549  ...  73,118279569892479   \n",
      "3              1              1  267  ...  110,05692599620494   \n",
      "4              0              0  549  ...   45,36831264567185   \n",
      "\n",
      "        TauxImpNB_CPM EcartNumCheq NbrMagasin3J         DiffDateTr1  \\\n",
      "0  52,076033757361408            0            1                   4   \n",
      "1  52,076033757361408            1            2  1,7976851851851852   \n",
      "2  52,076033757361408            0            1                   4   \n",
      "3  53,554233554497365            0            1                   4   \n",
      "4  52,076033757361408            1            1  1,9971064814814814   \n",
      "\n",
      "  DiffDateTr2 DiffDateTr3          CA3TRetMtt               CA3TR  Heure  \n",
      "0           4           4                  20                   0  27134  \n",
      "1           4           4  28,609999999999999  8,6099999999999994  27817  \n",
      "2           4           4  57,640000000000001                   0  28058  \n",
      "3           4           4  54,289999999999999                   0  28128  \n",
      "4           4           4  59,149999999999999               32,25  29607  \n",
      "\n",
      "[5 rows x 23 columns]\n",
      "<class 'pandas.core.frame.DataFrame'>\n",
      "RangeIndex: 3812039 entries, 0 to 3812038\n",
      "Data columns (total 23 columns):\n",
      " #   Column                    Dtype \n",
      "---  ------                    ----- \n",
      " 0   ZIBZIN                    object\n",
      " 1   IDAvisAutorisationCheque  object\n",
      " 2   FlagImpaye                object\n",
      " 3   Montant                   object\n",
      " 4   DateTransaction           object\n",
      " 5   CodeDecision              object\n",
      " 6   VerifianceCPT1            object\n",
      " 7   VerifianceCPT2            object\n",
      " 8   VerifianceCPT3            object\n",
      " 9   D2CB                      object\n",
      " 10  ScoringFP1                object\n",
      " 11  ScoringFP2                object\n",
      " 12  ScoringFP3                object\n",
      " 13  TauxImpNb_RB              object\n",
      " 14  TauxImpNB_CPM             object\n",
      " 15  EcartNumCheq              object\n",
      " 16  NbrMagasin3J              object\n",
      " 17  DiffDateTr1               object\n",
      " 18  DiffDateTr2               object\n",
      " 19  DiffDateTr3               object\n",
      " 20  CA3TRetMtt                object\n",
      " 21  CA3TR                     object\n",
      " 22  Heure                     object\n",
      "dtypes: object(23)\n",
      "memory usage: 668.9+ MB\n"
     ]
    }
   ],
   "source": [
    "#Impossible de changer les types des colonnes à cause de la ligne #1956360\n",
    "print(df[df[\"ZIBZIN\"].str.contains('ZIBZIN')])\n",
    "print(df.iloc[[1956360]])\n",
    "#c'est un header\n",
    "df.drop([1956360], axis=0, inplace=True)\n",
    "#remove duplicates lines\n",
    "df = df.drop_duplicates()\n",
    "#reset_index \n",
    "df.reset_index(drop=True, inplace=True)\n",
    "print(df.head())\n",
    "df.info()"
   ]
  },
  {
   "cell_type": "code",
   "execution_count": 21,
   "id": "53aa5248",
   "metadata": {},
   "outputs": [],
   "source": [
    "#get index for train and test because we will change de nature of date\n",
    "df[\"DateTransaction_day\"] = pd.to_datetime(df[\"DateTransaction\"]).dt.date\n",
    "index_train = df[df[\"DateTransaction_day\"].between(dt.date(2017,2,1), dt.date(2017,8,31))].index\n",
    "index_test = df[df[\"DateTransaction_day\"].between(dt.date(2017,9,1), dt.date(2017,11,30))].index\n",
    "index_train = index_train.to_series()\n",
    "index_test = index_test.to_series()\n",
    "index_train.to_csv(\"C:/Users/pauli/Documents/M2/fouille de données/projet/SISE_Fraudes_Bancaires/nettoyage/index_train.csv\", index=False)\n",
    "index_test.to_csv(\"C:/Users/pauli/Documents/M2/fouille de données/projet/SISE_Fraudes_Bancaires/nettoyage/index_test.csv\", index=False)\n"
   ]
  },
  {
   "cell_type": "code",
   "execution_count": 22,
   "id": "198e28e5",
   "metadata": {},
   "outputs": [],
   "source": [
    "#Changement des types en float64\n",
    "def var_to_float(df, var_tofloat):\n",
    "    for i in var_tofloat:\n",
    "        df[i] = df[i].str.replace(\",\",\".\")\n",
    "        df[i] = pd.to_numeric(df[i], downcast=\"float\")\n",
    "    return(df)"
   ]
  },
  {
   "cell_type": "code",
   "execution_count": 23,
   "id": "cc6e7e1e",
   "metadata": {},
   "outputs": [],
   "source": [
    "#changement des types en int\n",
    "def var_to_int(df, var_toint) :\n",
    "    for i in var_toint:\n",
    "        df[i] = df[i].astype(int)\n",
    "    return(df)"
   ]
  },
  {
   "cell_type": "code",
   "execution_count": 24,
   "id": "63ad4dac",
   "metadata": {},
   "outputs": [],
   "source": [
    "#changement des dates en int\n",
    "def date_to_int(df, date_to_int) :\n",
    "    for i in date_toint:\n",
    "        df[i] = df[i].astype(str)\n",
    "        df[i] = df[i].str.replace(\"-\",\"\")\n",
    "        df[i] = df[i].astype(int)\n",
    "    return(df)"
   ]
  },
  {
   "cell_type": "code",
   "execution_count": 25,
   "id": "af6c8581",
   "metadata": {},
   "outputs": [],
   "source": [
    "var_tofloat = ['Montant','ScoringFP1', 'ScoringFP2', 'ScoringFP3', 'TauxImpNb_RB', 'TauxImpNB_CPM', 'DiffDateTr1', 'DiffDateTr2', 'DiffDateTr3', 'CA3TRetMtt', 'CA3TR']\n",
    "df = var_to_float(df, var_tofloat)\n"
   ]
  },
  {
   "cell_type": "code",
   "execution_count": 26,
   "id": "4c9b41ef",
   "metadata": {},
   "outputs": [],
   "source": [
    "var_toint = ['D2CB', 'Heure', 'EcartNumCheq', 'VerifianceCPT1', 'VerifianceCPT2', 'VerifianceCPT3', 'NbrMagasin3J', 'FlagImpaye']\n",
    "df = var_to_int(df, var_toint)\n"
   ]
  },
  {
   "cell_type": "code",
   "execution_count": 27,
   "id": "2c72b787",
   "metadata": {},
   "outputs": [],
   "source": [
    "date_toint = ['DateTransaction_day']\n",
    "df = date_to_int(df, date_toint)\n"
   ]
  },
  {
   "cell_type": "code",
   "execution_count": 28,
   "id": "08ab24c8",
   "metadata": {},
   "outputs": [],
   "source": [
    "df=df.drop(['ZIBZIN','CodeDecision', 'IDAvisAutorisationCheque', 'DateTransaction'], axis=1)\n"
   ]
  },
  {
   "cell_type": "code",
   "execution_count": 29,
   "id": "6d7786f9",
   "metadata": {},
   "outputs": [
    {
     "name": "stdout",
     "output_type": "stream",
     "text": [
      "<class 'pandas.core.frame.DataFrame'>\n",
      "RangeIndex: 3812039 entries, 0 to 3812038\n",
      "Data columns (total 20 columns):\n",
      " #   Column               Dtype  \n",
      "---  ------               -----  \n",
      " 0   FlagImpaye           int32  \n",
      " 1   Montant              float64\n",
      " 2   VerifianceCPT1       int32  \n",
      " 3   VerifianceCPT2       int32  \n",
      " 4   VerifianceCPT3       int32  \n",
      " 5   D2CB                 int32  \n",
      " 6   ScoringFP1           float64\n",
      " 7   ScoringFP2           float32\n",
      " 8   ScoringFP3           float32\n",
      " 9   TauxImpNb_RB         float32\n",
      " 10  TauxImpNB_CPM        float32\n",
      " 11  EcartNumCheq         int32  \n",
      " 12  NbrMagasin3J         int32  \n",
      " 13  DiffDateTr1          float32\n",
      " 14  DiffDateTr2          float32\n",
      " 15  DiffDateTr3          float32\n",
      " 16  CA3TRetMtt           float64\n",
      " 17  CA3TR                float32\n",
      " 18  Heure                int32  \n",
      " 19  DateTransaction_day  int32  \n",
      "dtypes: float32(8), float64(3), int32(9)\n",
      "memory usage: 334.5 MB\n"
     ]
    }
   ],
   "source": [
    "df.info()"
   ]
  },
  {
   "cell_type": "code",
   "execution_count": null,
   "id": "fd8dd051",
   "metadata": {},
   "outputs": [],
   "source": [
    "df.to_csv(\"C:/Users/pauli/Documents/M2/fouille de données/projet/df_clean.csv\", index=False)\n"
   ]
  }
 ],
 "metadata": {
  "kernelspec": {
   "display_name": "Python 3 (ipykernel)",
   "language": "python",
   "name": "python3"
  },
  "language_info": {
   "codemirror_mode": {
    "name": "ipython",
    "version": 3
   },
   "file_extension": ".py",
   "mimetype": "text/x-python",
   "name": "python",
   "nbconvert_exporter": "python",
   "pygments_lexer": "ipython3",
   "version": "3.10.8"
  }
 },
 "nbformat": 4,
 "nbformat_minor": 5
}
