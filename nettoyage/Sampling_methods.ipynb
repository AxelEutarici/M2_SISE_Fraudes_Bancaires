{
 "cells": [
  {
   "cell_type": "code",
   "execution_count": 53,
   "id": "123d2a8a",
   "metadata": {},
   "outputs": [],
   "source": [
    "import os\n",
    "#os.chdir(r\"C:\\Users\\pauli\\Documents\\M2\\fouille de données\\projet\\fichiers\")\n",
    "os.chdir(r\"C:\\Users\\axele\\Documents\\SISE_Fraudes_Bancaires\")"
   ]
  },
  {
   "cell_type": "markdown",
   "id": "57a2ade5",
   "metadata": {},
   "source": [
    "## 1. Importing libraries "
   ]
  },
  {
   "cell_type": "code",
   "execution_count": 55,
   "id": "36ca012b",
   "metadata": {},
   "outputs": [],
   "source": [
    "import random\n",
    "import numpy as np\n",
    "import pandas as pd\n",
    "import time\n",
    "from collections import Counter\n",
    "\n",
    "from sklearn.model_selection import StratifiedKFold\n",
    "\n",
    "#lib de pre-process\n",
    "from sklearn.preprocessing import OneHotEncoder\n",
    "from sklearn.preprocessing import Normalizer\n",
    "from imblearn.under_sampling import TomekLinks\n",
    "from imblearn.over_sampling import SMOTE\n",
    "from imblearn.combine import SMOTETomek"
   ]
  },
  {
   "cell_type": "markdown",
   "id": "0b1eddf0",
   "metadata": {},
   "source": [
    " ## 2. Data frames preparation"
   ]
  },
  {
   "cell_type": "code",
   "execution_count": 56,
   "id": "8b054a98",
   "metadata": {},
   "outputs": [],
   "source": [
    "#Upload the clean data frame \n",
    "df = pd.read_csv('df_clean.csv', sep=\",\")\n",
    "index_train = pd.read_csv('index_train.csv',sep=\",\")\n",
    "index_train = index_train[\"0\"].values.tolist()\n",
    "index_test = pd.read_csv('index_test.csv',sep=\",\")\n",
    "index_test = index_test[\"0\"].values.tolist()"
   ]
  },
  {
   "cell_type": "code",
   "execution_count": 57,
   "id": "5d5e8a29",
   "metadata": {},
   "outputs": [],
   "source": [
    "y = df.loc[:,\"FlagImpaye\"]\n",
    "# Drop the 'FlagImpaye', 'day-name' and 'month' columns\n",
    "X = df.drop(['month','day_name','FlagImpaye'], axis=1)\n",
    "\n",
    "#ytrain\n",
    "ytrain = y.loc[index_train,]\n",
    "#ytest\n",
    "ytest = y.loc[index_test,]\n",
    "#Xtrain\n",
    "Xtrain = X.loc[index_train,]\n",
    "#Xtest\n",
    "Xtest = X.loc[index_test,]\n",
    "\n"
   ]
  },
  {
   "cell_type": "markdown",
   "id": "13435913",
   "metadata": {},
   "source": [
    "## 3. Reworking the training data set"
   ]
  },
  {
   "cell_type": "code",
   "execution_count": 8,
   "id": "47f75116",
   "metadata": {},
   "outputs": [
    {
     "name": "stdout",
     "output_type": "stream",
     "text": [
      "Original dataset shape Counter({0: 3048146, 1: 16482})\n",
      "0.03 dataset shape Counter({0: 91488, 1: 451})\n",
      "Tomeklinks resampled original dataset shape Counter({0: 3041058, 1: 16482})\n"
     ]
    }
   ],
   "source": [
    "#Undersampling with tomek-link\n",
    "print('Original dataset shape %s' % Counter(ytrain))\n",
    "print('0.03 dataset shape %s' % Counter(ytrain30))\n",
    "\n",
    "tl = TomekLinks()\n",
    "Xtrain_tl, ytrain_tl = tl.fit_resample(Xtrain, ytrain)\n",
    "print('Tomeklinks resampled original dataset shape %s' % Counter(ytrain_tl))"
   ]
  },
  {
   "cell_type": "code",
   "execution_count": null,
   "id": "a1228b77",
   "metadata": {},
   "outputs": [],
   "source": [
    "#Oversampling with SMOTE\n",
    "sm = SMOTE(sampling_strategy=0.5, k_neighbors=5, random_state=1)\n",
    "Xtrain_smote, ytrain_smote = sm.fit_resample(Xtrain30, ytrain30)\n",
    "print('Smote resampled 0.03 dataset shape %s' % Counter(ytrain_smote))"
   ]
  },
  {
   "cell_type": "code",
   "execution_count": 58,
   "id": "bfe0481b-ccbe-4f90-971a-64bc199ec8da",
   "metadata": {},
   "outputs": [
    {
     "name": "stderr",
     "output_type": "stream",
     "text": [
      "C:\\Users\\axele\\AppData\\Local\\Programs\\Python\\Python310\\lib\\site-packages\\imblearn\\over_sampling\\_smote\\base.py:336: FutureWarning: The parameter `n_jobs` has been deprecated in 0.10 and will be removed in 0.12. You can pass an nearest neighbors estimator where `n_jobs` is already set instead.\n",
      "  warnings.warn(\n"
     ]
    },
    {
     "ename": "NameError",
     "evalue": "name 'y_res' is not defined",
     "output_type": "error",
     "traceback": [
      "\u001b[1;31m---------------------------------------------------------------------------\u001b[0m",
      "\u001b[1;31mNameError\u001b[0m                                 Traceback (most recent call last)",
      "Cell \u001b[1;32mIn [58], line 5\u001b[0m\n\u001b[0;32m      3\u001b[0m smt \u001b[38;5;241m=\u001b[39m SMOTETomek(random_state\u001b[38;5;241m=\u001b[39m\u001b[38;5;241m42\u001b[39m,n_jobs\u001b[38;5;241m=\u001b[39m\u001b[38;5;241m-\u001b[39m\u001b[38;5;241m1\u001b[39m, sampling_strategy\u001b[38;5;241m=\u001b[39m\u001b[38;5;241m0.1\u001b[39m)\n\u001b[0;32m      4\u001b[0m Xtrain_smt, ytrain_smt \u001b[38;5;241m=\u001b[39m smt\u001b[38;5;241m.\u001b[39mfit_resample(Xtrain, ytrain)\n\u001b[1;32m----> 5\u001b[0m \u001b[38;5;28mprint\u001b[39m(\u001b[38;5;124m'\u001b[39m\u001b[38;5;124mResampled dataset shape \u001b[39m\u001b[38;5;132;01m%s\u001b[39;00m\u001b[38;5;124m'\u001b[39m \u001b[38;5;241m%\u001b[39m Counter(\u001b[43my_res\u001b[49m))\n\u001b[0;32m      6\u001b[0m Xtrain_smt\u001b[38;5;241m.\u001b[39minfo\n",
      "\u001b[1;31mNameError\u001b[0m: name 'y_res' is not defined"
     ]
    }
   ],
   "source": [
    "#Over + Under\n",
    "smt = SMOTETomek(random_state=42, sampling_strategy=0.1)\n",
    "Xtrain_smt, ytrain_smt = smt.fit_resample(Xtrain, ytrain)\n",
    "print('SmoteTomek resampled 0.03 dataset shape %s' % Counter(ytrain_smt))"
   ]
  },
  {
   "cell_type": "code",
   "execution_count": null,
   "id": "42d3fea4-3303-4cca-ace6-5997fbb59c99",
   "metadata": {
    "tags": []
   },
   "outputs": [],
   "source": [
    "#Save the transformed data frames \n",
    "\n",
    "Xtest.to_csv(r\"C:\\Users\\axele\\Documents\\SISE_Fraudes_Bancaires\\Xtest.csv\", index=False)\n",
    "ytest.to_csv(r\"C:\\Users\\axele\\Documents\\SISE_Fraudes_Bancaires\\ytest.csv\", index=False)\n",
    "\n",
    "Xtrain_smote.to_csv(r\"C:\\Users\\axele\\Documents\\SISE_Fraudes_Bancaires\\Xtrain_smote.csv\", index=False)\n",
    "ytrain_smote.to_csv(r\"C:\\Users\\axele\\Documents\\SISE_Fraudes_Bancaires\\ytrain_smote.csv\", index=False)\n",
    "\n",
    "Xtrain_tl.to_csv(r\"C:\\Users\\axele\\Documents\\SISE_Fraudes_Bancaires\\Xtrain_Tomek.csv\", index=False)\n",
    "ytrain_tl.to_csv(r\"C:\\Users\\axele\\Documents\\SISE_Fraudes_Bancaires\\ytrain_Tomek.csv\", index=False)\n",
    "\n",
    "Xtrain_smt.to_csv(r\"C:\\Users\\axele\\Documents\\SISE_Fraudes_Bancaires\\Xtrain_SMOTETomek.csv\", index=False)\n",
    "ytrain_smt.to_csv(r\"C:\\Users\\axele\\Documents\\SISE_Fraudes_Bancaires\\ytrain_SMOTETomek.csv\", index=False)"
   ]
  }
 ],
 "metadata": {
  "kernelspec": {
   "display_name": "Python 3 (ipykernel)",
   "language": "python",
   "name": "python3"
  },
  "language_info": {
   "codemirror_mode": {
    "name": "ipython",
    "version": 3
   },
   "file_extension": ".py",
   "mimetype": "text/x-python",
   "name": "python",
   "nbconvert_exporter": "python",
   "pygments_lexer": "ipython3",
   "version": "3.10.7"
  }
 },
 "nbformat": 4,
 "nbformat_minor": 5
}
