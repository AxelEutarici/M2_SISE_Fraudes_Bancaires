{
 "cells": [
  {
   "cell_type": "code",
   "execution_count": 2,
   "id": "9dc4a613",
   "metadata": {},
   "outputs": [],
   "source": [
    "import os\n",
    "#os.chdir(r\"C:\\Users\\pauli\\Documents\\M2\\fouille de données\\projet\\fichiers\")\n",
    "os.chdir(r\"C:\\Users\\axele\\Documents\\SISE_Fraudes_Bancaires\")"
   ]
  },
  {
   "cell_type": "code",
   "execution_count": 1,
   "id": "9e918c47",
   "metadata": {},
   "outputs": [],
   "source": [
    "import random\n",
    "import numpy as np\n",
    "import pandas as pd\n",
    "import time\n",
    "\n",
    "#lib variables selections\n",
    "from sklearn.feature_selection import SelectFwe, f_classif,chi2"
   ]
  },
  {
   "cell_type": "code",
   "execution_count": 20,
   "id": "f9593ceb",
   "metadata": {},
   "outputs": [],
   "source": [
    "#Import the clean data frame\n",
    "df = pd.read_csv('df_clean.csv', sep=\",\")\n",
    "y = df.loc[:,\"FlagImpaye\"]\n",
    "# Drop the 'FlagImpaye', 'month' and 'day-name' columns\n",
    "X = df.drop(['month','day_name','FlagImpaye'], axis=1)\n",
    "\n",
    "\n",
    "#avec le jeu de données smotetomek\n",
    "\n",
    "X_smt = pd.read_csv('Xtrain_SMOTETomek.csv',sep=\",\")\n",
    "y_smt = pd.read_csv('ytrain_SMOTETomek.csv',sep=\",\")"
   ]
  },
  {
   "cell_type": "code",
   "execution_count": null,
   "id": "ee83adc5",
   "metadata": {},
   "outputs": [],
   "source": [
    "#f_classif avec Smotetomek\n",
    "sel1 = SelectFwe(f_classif, alpha=0.001)\n",
    "sel1.fit(X,y)\n",
    "\n",
    "#scores\n",
    "print(sel1.scores_)\n",
    "\n",
    "#pvalues\n",
    "print(sel1.pvalues_)\n",
    "\n",
    "#variables selectionnées \n",
    "print(X_smt.columns[:][sel1.pvalues_<0.001])"
   ]
  },
  {
   "cell_type": "code",
   "execution_count": 6,
   "id": "675141fd",
   "metadata": {},
   "outputs": [
    {
     "name": "stderr",
     "output_type": "stream",
     "text": [
      "C:\\Users\\axele\\AppData\\Local\\Programs\\Python\\Python310\\lib\\site-packages\\sklearn\\utils\\validation.py:1111: DataConversionWarning: A column-vector y was passed when a 1d array was expected. Please change the shape of y to (n_samples, ), for example using ravel().\n",
      "  y = column_or_1d(y, warn=True)\n"
     ]
    },
    {
     "name": "stdout",
     "output_type": "stream",
     "text": [
      "[1.31897241e+05 6.90058190e+04 1.25109641e+05 1.56020099e+05\n",
      " 6.88510220e+05 4.18908959e+04 8.48227665e+05 1.30413752e+05\n",
      " 2.67455759e+04 2.75373718e+05 4.09825740e+01 2.65074741e+04\n",
      " 2.76162492e+04 1.51574983e+03 4.59162837e+04 1.44403761e+05\n",
      " 5.52127685e+04 1.04969504e+05]\n",
      "[0.00000000e+00 0.00000000e+00 0.00000000e+00 0.00000000e+00\n",
      " 0.00000000e+00 0.00000000e+00 0.00000000e+00 0.00000000e+00\n",
      " 0.00000000e+00 0.00000000e+00 1.53603697e-10 0.00000000e+00\n",
      " 0.00000000e+00 0.00000000e+00 0.00000000e+00 0.00000000e+00\n",
      " 0.00000000e+00 0.00000000e+00]\n",
      "Index(['Montant', 'VerifianceCPT1', 'VerifianceCPT2', 'VerifianceCPT3', 'D2CB',\n",
      "       'ScoringFP1', 'ScoringFP2', 'ScoringFP3', 'TauxImpNb_RB',\n",
      "       'TauxImpNB_CPM', 'EcartNumCheq', 'NbrMagasin3J', 'DiffDateTr1',\n",
      "       'DiffDateTr2', 'DiffDateTr3', 'CA3TRetMtt', 'CA3TR', 'Heure'],\n",
      "      dtype='object')\n"
     ]
    }
   ],
   "source": [
    "#f_classif avec Smotetomek\n",
    "sel2 = SelectFwe(f_classif, alpha=0.001)\n",
    "sel2.fit(X_smt,y_smt)\n",
    "\n",
    "#scores\n",
    "print(sel2.scores_)\n",
    "\n",
    "#pvalues\n",
    "print(sel2.pvalues_)\n",
    "\n",
    "#variables selectionnées \n",
    "print(X_smt.columns[:][sel2.pvalues_<0.001])"
   ]
  },
  {
   "cell_type": "code",
   "execution_count": 24,
   "id": "a278c8b8",
   "metadata": {},
   "outputs": [
    {
     "name": "stdout",
     "output_type": "stream",
     "text": [
      "[1.56649205e+02 3.88863245e+03 6.90764167e+03 1.00298064e+04\n",
      " 2.13478108e+05 1.16532711e+03 1.04137961e+04 2.28836358e+04\n",
      " 7.16373662e+03 1.17042441e+04 1.80128899e+01 6.72245401e+03\n",
      " 1.99760346e+03 2.64089641e+01 4.60693998e+02 3.19531624e+02\n",
      " 3.84914895e+03 6.61894596e+03]\n",
      "[6.10666131e-036 0.00000000e+000 0.00000000e+000 0.00000000e+000\n",
      " 0.00000000e+000 2.09303682e-255 0.00000000e+000 0.00000000e+000\n",
      " 0.00000000e+000 0.00000000e+000 2.19414246e-005 0.00000000e+000\n",
      " 0.00000000e+000 2.76255440e-007 3.39520151e-102 1.83199377e-071\n",
      " 0.00000000e+000 0.00000000e+000]\n"
     ]
    }
   ],
   "source": [
    "# With the Chi2 method\n",
    "\n",
    "#normalize \n",
    "X_smt_n=(X_smt-X_smt.min())/(X_smt.max()-X_smt.min())\n",
    "\n",
    "sel3 = SelectFwe(chi2, alpha=0.001)\n",
    "sel3.fit_transform(X_smt_n,y_smt)\n",
    "\n",
    "#scores\n",
    "print(sel3.scores_)\n",
    "\n",
    "#pvalues\n",
    "print(sel3.pvalues_)"
   ]
  },
  {
   "cell_type": "code",
   "execution_count": null,
   "id": "9ee347a9",
   "metadata": {},
   "outputs": [],
   "source": [
    "# With the Chi2 method\n",
    "\n",
    "#normalize \n",
    "X_n=(X-X.min())/(X.max()-X.min())\n",
    "\n",
    "sel4 = SelectFwe(chi2, alpha=0.001)\n",
    "sel4.fit_transform(X_n,y)\n",
    "\n",
    "#scores\n",
    "print(sel3.scores_)\n",
    "\n",
    "#pvalues\n",
    "print(sel3.pvalues_)"
   ]
  }
 ],
 "metadata": {
  "kernelspec": {
   "display_name": "Python 3 (ipykernel)",
   "language": "python",
   "name": "python3"
  },
  "language_info": {
   "codemirror_mode": {
    "name": "ipython",
    "version": 3
   },
   "file_extension": ".py",
   "mimetype": "text/x-python",
   "name": "python",
   "nbconvert_exporter": "python",
   "pygments_lexer": "ipython3",
   "version": "3.10.7"
  }
 },
 "nbformat": 4,
 "nbformat_minor": 5
}
