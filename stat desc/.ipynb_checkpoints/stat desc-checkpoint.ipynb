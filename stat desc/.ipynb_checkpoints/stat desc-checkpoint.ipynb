{
 "cells": [
  {
   "cell_type": "code",
   "execution_count": null,
   "id": "2e85b17e",
   "metadata": {},
   "outputs": [],
   "source": [
    "import pandas as pd\n",
    "import os"
   ]
  },
  {
   "cell_type": "code",
   "execution_count": null,
   "id": "e6053fce",
   "metadata": {},
   "outputs": [],
   "source": [
    "os.chdir(r\"C:\\Users\\pauli\\Documents\\M2\\fouille de données\\projet\\SISE_Fraudes_Bancaires\\nettoyage\")\n",
    "df = pd.read_csv('df_clean.csv', sep=\",\")"
   ]
  },
  {
   "cell_type": "code",
   "execution_count": null,
   "id": "2e0a1eb7",
   "metadata": {},
   "outputs": [],
   "source": [
    "#profile = ProfileReport(df, title='Analyse exploratoire fraudes cheques', html={'style':{'full_width':True}})\n",
    "#profile.to_notebook_iframe()\n",
    "\n",
    "#bloque à 80% pour calculer l'auto correlation"
   ]
  },
  {
   "cell_type": "code",
   "execution_count": null,
   "id": "544a576a",
   "metadata": {},
   "outputs": [],
   "source": [
    "print(df.shape)\n",
    "df.dtypes"
   ]
  },
  {
   "cell_type": "code",
   "execution_count": null,
   "id": "380abe3c",
   "metadata": {},
   "outputs": [],
   "source": [
    "#% imbalenced\n",
    "pctPos = 100*len(y[y == 1])/len(y) # calcul % positifs\n",
    "dataset = \"{:05.2f}%\".format(pctPos) + \" \" + dataset \n",
    "print(dataset, X.shape)"
   ]
  },
  {
   "cell_type": "code",
   "execution_count": null,
   "id": "bdd92a35",
   "metadata": {},
   "outputs": [],
   "source": []
  },
  {
   "cell_type": "code",
   "execution_count": null,
   "id": "825fbda9",
   "metadata": {},
   "outputs": [],
   "source": []
  },
  {
   "cell_type": "code",
   "execution_count": null,
   "id": "a392729e",
   "metadata": {},
   "outputs": [],
   "source": []
  },
  {
   "cell_type": "code",
   "execution_count": null,
   "id": "bf45e65c",
   "metadata": {},
   "outputs": [],
   "source": []
  }
 ],
 "metadata": {
  "kernelspec": {
   "display_name": "Python 3 (ipykernel)",
   "language": "python",
   "name": "python3"
  },
  "language_info": {
   "codemirror_mode": {
    "name": "ipython",
    "version": 3
   },
   "file_extension": ".py",
   "mimetype": "text/x-python",
   "name": "python",
   "nbconvert_exporter": "python",
   "pygments_lexer": "ipython3",
   "version": "3.10.8"
  }
 },
 "nbformat": 4,
 "nbformat_minor": 5
}
